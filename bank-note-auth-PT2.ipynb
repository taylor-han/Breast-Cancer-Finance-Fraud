{
 "cells": [
  {
   "cell_type": "code",
   "execution_count": 1,
   "metadata": {},
   "outputs": [],
   "source": [
    "import warnings\n",
    "warnings.filterwarnings(\"ignore\")\n",
    "\n",
    "import numpy as np\n",
    "import scipy as sp\n",
    "import pandas as pd\n",
    "import csv\n",
    "import random as rn\n",
    "import matplotlib.pyplot as plt\n",
    "import matplotlib as mpl\n",
    "from mpl_toolkits.mplot3d import Axes3D\n",
    "import seaborn as sns\n",
    "import scipy.io as sio\n",
    "import math\n",
    "\n",
    "from sklearn.preprocessing import StandardScaler\n",
    "from sklearn.neighbors import KNeighborsClassifier\n",
    "from sklearn.tree import DecisionTreeClassifier\n",
    "\n",
    "\n",
    "from sklearn.svm import LinearSVC\n",
    "from sklearn.ensemble import RandomForestClassifier\n",
    "from sklearn.linear_model import LogisticRegressionCV\n",
    "from sklearn.model_selection import cross_validate\n",
    "from sklearn.model_selection import GridSearchCV\n",
    "\n",
    "from sklearn import svm\n",
    "from sklearn.metrics import accuracy_score\n",
    "from sklearn.metrics import accuracy_score\n",
    "from sklearn.model_selection import train_test_split, KFold, GridSearchCV\n",
    "from sklearn.metrics import classification_report, confusion_matrix\n",
    "import matplotlib.mlab as mlab\n",
    "from sklearn import preprocessing"
   ]
  },
  {
   "cell_type": "code",
   "execution_count": 2,
   "metadata": {},
   "outputs": [],
   "source": [
    "data = pd.read_csv('data_banknote_authentication.csv')\n",
    "df_bna = pd.DataFrame(data)"
   ]
  },
  {
   "cell_type": "code",
   "execution_count": 3,
   "metadata": {},
   "outputs": [
    {
     "data": {
      "text/html": [
       "<div>\n",
       "<style scoped>\n",
       "    .dataframe tbody tr th:only-of-type {\n",
       "        vertical-align: middle;\n",
       "    }\n",
       "\n",
       "    .dataframe tbody tr th {\n",
       "        vertical-align: top;\n",
       "    }\n",
       "\n",
       "    .dataframe thead th {\n",
       "        text-align: right;\n",
       "    }\n",
       "</style>\n",
       "<table border=\"1\" class=\"dataframe\">\n",
       "  <thead>\n",
       "    <tr style=\"text-align: right;\">\n",
       "      <th></th>\n",
       "      <th>Variance</th>\n",
       "      <th>Skewness</th>\n",
       "      <th>Curtosis</th>\n",
       "      <th>Entropy</th>\n",
       "      <th>Class</th>\n",
       "    </tr>\n",
       "  </thead>\n",
       "  <tbody>\n",
       "    <tr>\n",
       "      <td>0</td>\n",
       "      <td>3.62160</td>\n",
       "      <td>8.66610</td>\n",
       "      <td>-2.8073</td>\n",
       "      <td>-0.44699</td>\n",
       "      <td>0</td>\n",
       "    </tr>\n",
       "    <tr>\n",
       "      <td>1</td>\n",
       "      <td>4.54590</td>\n",
       "      <td>8.16740</td>\n",
       "      <td>-2.4586</td>\n",
       "      <td>-1.46210</td>\n",
       "      <td>0</td>\n",
       "    </tr>\n",
       "    <tr>\n",
       "      <td>2</td>\n",
       "      <td>3.86600</td>\n",
       "      <td>-2.63830</td>\n",
       "      <td>1.9242</td>\n",
       "      <td>0.10645</td>\n",
       "      <td>0</td>\n",
       "    </tr>\n",
       "    <tr>\n",
       "      <td>3</td>\n",
       "      <td>3.45660</td>\n",
       "      <td>9.52280</td>\n",
       "      <td>-4.0112</td>\n",
       "      <td>-3.59440</td>\n",
       "      <td>0</td>\n",
       "    </tr>\n",
       "    <tr>\n",
       "      <td>4</td>\n",
       "      <td>0.32924</td>\n",
       "      <td>-4.45520</td>\n",
       "      <td>4.5718</td>\n",
       "      <td>-0.98880</td>\n",
       "      <td>0</td>\n",
       "    </tr>\n",
       "    <tr>\n",
       "      <td>...</td>\n",
       "      <td>...</td>\n",
       "      <td>...</td>\n",
       "      <td>...</td>\n",
       "      <td>...</td>\n",
       "      <td>...</td>\n",
       "    </tr>\n",
       "    <tr>\n",
       "      <td>1367</td>\n",
       "      <td>0.40614</td>\n",
       "      <td>1.34920</td>\n",
       "      <td>-1.4501</td>\n",
       "      <td>-0.55949</td>\n",
       "      <td>1</td>\n",
       "    </tr>\n",
       "    <tr>\n",
       "      <td>1368</td>\n",
       "      <td>-1.38870</td>\n",
       "      <td>-4.87730</td>\n",
       "      <td>6.4774</td>\n",
       "      <td>0.34179</td>\n",
       "      <td>1</td>\n",
       "    </tr>\n",
       "    <tr>\n",
       "      <td>1369</td>\n",
       "      <td>-3.75030</td>\n",
       "      <td>-13.45860</td>\n",
       "      <td>17.5932</td>\n",
       "      <td>-2.77710</td>\n",
       "      <td>1</td>\n",
       "    </tr>\n",
       "    <tr>\n",
       "      <td>1370</td>\n",
       "      <td>-3.56370</td>\n",
       "      <td>-8.38270</td>\n",
       "      <td>12.3930</td>\n",
       "      <td>-1.28230</td>\n",
       "      <td>1</td>\n",
       "    </tr>\n",
       "    <tr>\n",
       "      <td>1371</td>\n",
       "      <td>-2.54190</td>\n",
       "      <td>-0.65804</td>\n",
       "      <td>2.6842</td>\n",
       "      <td>1.19520</td>\n",
       "      <td>1</td>\n",
       "    </tr>\n",
       "  </tbody>\n",
       "</table>\n",
       "<p>1372 rows × 5 columns</p>\n",
       "</div>"
      ],
      "text/plain": [
       "      Variance  Skewness  Curtosis  Entropy  Class\n",
       "0      3.62160   8.66610   -2.8073 -0.44699      0\n",
       "1      4.54590   8.16740   -2.4586 -1.46210      0\n",
       "2      3.86600  -2.63830    1.9242  0.10645      0\n",
       "3      3.45660   9.52280   -4.0112 -3.59440      0\n",
       "4      0.32924  -4.45520    4.5718 -0.98880      0\n",
       "...        ...       ...       ...      ...    ...\n",
       "1367   0.40614   1.34920   -1.4501 -0.55949      1\n",
       "1368  -1.38870  -4.87730    6.4774  0.34179      1\n",
       "1369  -3.75030 -13.45860   17.5932 -2.77710      1\n",
       "1370  -3.56370  -8.38270   12.3930 -1.28230      1\n",
       "1371  -2.54190  -0.65804    2.6842  1.19520      1\n",
       "\n",
       "[1372 rows x 5 columns]"
      ]
     },
     "execution_count": 3,
     "metadata": {},
     "output_type": "execute_result"
    }
   ],
   "source": [
    "df_bna"
   ]
  },
  {
   "cell_type": "code",
   "execution_count": 4,
   "metadata": {},
   "outputs": [
    {
     "name": "stdout",
     "output_type": "stream",
     "text": [
      "Total cases: 1372\n",
      "Number of authenticity: 610\n",
      "Number of non-authenticity: 762\n"
     ]
    }
   ],
   "source": [
    "number_authentic = len(data[data.Class == 1])\n",
    "number_not_authentic = len(data[data.Class == 0])\n",
    "print('Total cases: {}'.format(number_authentic + number_not_authentic))\n",
    "print('Number of authenticity: {}'.format(number_authentic))\n",
    "print('Number of non-authenticity: {}'.format(number_not_authentic))"
   ]
  },
  {
   "cell_type": "code",
   "execution_count": 5,
   "metadata": {},
   "outputs": [],
   "source": [
    "# Drop the Class (label)\n",
    "X = df_bna.drop('Class',axis=1)\n",
    "# Create label\n",
    "Y = df_bna['Class']"
   ]
  },
  {
   "cell_type": "markdown",
   "metadata": {},
   "source": [
    "## Partition 2 (80/20 Split)"
   ]
  },
  {
   "cell_type": "markdown",
   "metadata": {},
   "source": [
    "### SVM"
   ]
  },
  {
   "cell_type": "code",
   "execution_count": 6,
   "metadata": {},
   "outputs": [],
   "source": [
    "X_train_val, X_test, Y_train_val, Y_test = train_test_split(X, Y, test_size = 0.2 ,random_state = 42)"
   ]
  },
  {
   "cell_type": "code",
   "execution_count": 7,
   "metadata": {},
   "outputs": [],
   "source": [
    "# Calculate error given feature vectors X and labels Y.\n",
    "def calc_error(X, Y, classifier):\n",
    "    Y_pred = classifier.predict(X)   \n",
    "    e = 1 - accuracy_score(Y, Y_pred) \n",
    "    return e"
   ]
  },
  {
   "cell_type": "code",
   "execution_count": 8,
   "metadata": {
    "scrolled": true
   },
   "outputs": [
    {
     "name": "stdout",
     "output_type": "stream",
     "text": [
      "C = 0.1\n",
      "Decision boundary: -0.944x0+-0.611x1+1.190=0\n",
      "Training accuracy: 0.99179580674567\n",
      "\n",
      "\n",
      "\n",
      "\n",
      "C = 1\n",
      "Decision boundary: -2.250x0+-1.302x1+2.068=0\n",
      "Training accuracy: 0.9899726526891522\n",
      "\n",
      "\n",
      "\n",
      "\n",
      "C = 10\n",
      "Decision boundary: -3.070x0+-1.730x1+2.854=0\n",
      "Training accuracy: 0.9890610756608933\n",
      "\n",
      "\n",
      "\n",
      "\n",
      "C = 100\n",
      "Decision boundary: -6.678x0+-3.397x1+5.914=0\n",
      "Training accuracy: 0.9908842297174111\n",
      "\n",
      "\n",
      "\n",
      "\n",
      "C = 1000\n",
      "Decision boundary: -3.506x0+-1.762x1+3.424=0\n",
      "Training accuracy: 0.9890610756608933\n",
      "\n",
      "\n",
      "\n",
      "\n"
     ]
    }
   ],
   "source": [
    "C_list = [0.1, 1, 10, 100, 1000]\n",
    "opt_e_training = 1.0   # Optimal training error.\n",
    "opt_classifier = None  # Optimal classifier.\n",
    "opt_C          = None  # Optimal C.\n",
    "\n",
    "for C in C_list:\n",
    "    # Create a linear SVM classifier.\n",
    "    classifier = svm.LinearSVC(penalty='l2', loss='hinge', C=C, max_iter=10000)\n",
    "    \n",
    "    # Use the classifier to fit the training set (use X_train, Y_train).\n",
    "    classifier.fit(X_train_val, Y_train_val)\n",
    "\n",
    "    # Obtain the weights and bias from the linear SVM classifier.\n",
    "    W = classifier.coef_[0]\n",
    "    b = classifier.intercept_[0]\n",
    "    \n",
    "    # Show decision boundary, training error and test error.\n",
    "    print('C = {}'.format(C))\n",
    "    print('Decision boundary: {:.3f}x0+{:.3f}x1+{:.3f}=0'.format(W[0],W[1],b))\n",
    "    #vis(X_train_val, Y_train_val, W, b)\n",
    "    e_training = calc_error(X_train_val, Y_train_val, classifier)\n",
    "    print('Training accuracy: {}'.format(1 - e_training))\n",
    "    print('\\n\\n\\n')\n",
    "    \n",
    "    # Judge if it is the optimal one.\n",
    "    if e_training < opt_e_training:\n",
    "        opt_e_training = e_training\n",
    "        opt_classifier = classifier\n",
    "        opt_C = C"
   ]
  },
  {
   "cell_type": "code",
   "execution_count": 9,
   "metadata": {
    "scrolled": true
   },
   "outputs": [
    {
     "name": "stdout",
     "output_type": "stream",
     "text": [
      "Best parameter C* = 0.1\n",
      "Decision boundary: -0.944x0+-0.611x1+1.190=0\n",
      "Testing Accuracy: 0.9854545454545455\n"
     ]
    }
   ],
   "source": [
    "# Obtain the weights and bias from the best linear SVM classifier.\n",
    "opt_W = opt_classifier.coef_[0]\n",
    "opt_b = opt_classifier.intercept_[0]\n",
    "print('Best parameter C* = {}'.format(opt_C))\n",
    "print('Decision boundary: {:.3f}x0+{:.3f}x1+{:.3f}=0'.format(opt_W[0],opt_W[1],opt_b))\n",
    "print('Testing Accuracy: {}'.format(1 - calc_error(X_test, Y_test, opt_classifier)))"
   ]
  },
  {
   "cell_type": "markdown",
   "metadata": {},
   "source": [
    "### Logistic Regression"
   ]
  },
  {
   "cell_type": "code",
   "execution_count": 10,
   "metadata": {
    "scrolled": true
   },
   "outputs": [
    {
     "name": "stdout",
     "output_type": "stream",
     "text": [
      "Best parameter: {'penalty': 'l1', 'solver': 'liblinear'}\n",
      "Training accuracy: [0.99179705 0.99361854]\n",
      "Validation score: [0.99088423 0.98906108]\n",
      "Testining accuracy: 0.9854545454545455\n"
     ]
    }
   ],
   "source": [
    "classifier = LogisticRegressionCV()\n",
    "param = [\n",
    "  {'penalty': ['l1'], 'solver': ['liblinear']},\n",
    "  {'penalty': ['l2'], 'solver': ['newton-cg']},\n",
    " ]\n",
    "logit = GridSearchCV(classifier, param, cv=5, return_train_score=True)\n",
    "logit.fit(X_train_val, Y_train_val)\n",
    "logit_train = logit.cv_results_['mean_train_score']\n",
    "logit_test = logit.cv_results_['mean_test_score']\n",
    "\n",
    "test_accX = logit.best_estimator_.predict(X_test) == Y_test\n",
    "print('Best parameter: {}'.format(logit.best_params_))\n",
    "#print(sum(test_accX))\n",
    "test_acc = sum(test_accX)/len(test_accX)\n",
    "print('Training accuracy: {}'.format(logit_train))\n",
    "print('Validation score: {}'.format(logit_test))\n",
    "print('Testining accuracy: {}'.format(test_acc))"
   ]
  },
  {
   "cell_type": "markdown",
   "metadata": {},
   "source": [
    "### Random Forest"
   ]
  },
  {
   "cell_type": "code",
   "execution_count": 11,
   "metadata": {},
   "outputs": [
    {
     "name": "stdout",
     "output_type": "stream",
     "text": [
      "Best parameter: {'max_features': 0.6, 'n_estimators': 1024}\n",
      "Training accuracy: [1. 1. 1. 1. 1. 1. 1. 1.]\n",
      "Validation score: [0.99088423 0.99088423 0.98997265 0.98997265 0.98997265 0.99179581\n",
      " 0.99088423 0.99088423]\n",
      "Testining accuracy: 0.9927272727272727\n"
     ]
    }
   ],
   "source": [
    "param = {\"max_features\":[0.05,0.1,0.2,0.3,0.4,0.6,0.8,1],\"n_estimators\":[1024]}\n",
    "classifier = RandomForestClassifier()\n",
    "\n",
    "rf = GridSearchCV(classifier,param,cv=5, return_train_score=True)\n",
    "rf.fit(X_train_val, Y_train_val)\n",
    "rf_train = rf.cv_results_['mean_train_score']\n",
    "rf_test = rf.cv_results_['mean_test_score']\n",
    "\n",
    "test_accX = rf.best_estimator_.predict(X_test) == Y_test\n",
    "\n",
    "#print(sum(test_accX))\n",
    "test_acc = sum(test_accX)/len(test_accX)\n",
    "print('Best parameter: {}'.format(rf.best_params_))\n",
    "print('Training accuracy: {}'.format(rf_train))\n",
    "print('Validation score: {}'.format(rf_test))\n",
    "print('Testining accuracy: {}'.format(test_acc))"
   ]
  },
  {
   "cell_type": "markdown",
   "metadata": {},
   "source": [
    "### Decision Tree"
   ]
  },
  {
   "cell_type": "code",
   "execution_count": 12,
   "metadata": {},
   "outputs": [
    {
     "name": "stdout",
     "output_type": "stream",
     "text": [
      "Best parameter: {'criterion': 'entropy', 'max_depth': 5}\n",
      "Training accuracy: [0.86417476 0.91066458 0.96262512 0.97948951 0.9958979 ]\n",
      "Validation score: [0.86326345 0.89881495 0.94804011 0.9562443  0.97812215]\n",
      "Testining accuracy: 0.9781818181818182\n"
     ]
    }
   ],
   "source": [
    "param  = {\"criterion\":[\"entropy\"],'max_depth':[1,2,3,4,5]}\n",
    "classifier = DecisionTreeClassifier()\n",
    "\n",
    "dt = GridSearchCV(classifier,param,cv=5, return_train_score=True)\n",
    "dt.fit(X_train_val, Y_train_val)\n",
    "dt_train = dt.cv_results_['mean_train_score']\n",
    "dt_test = dt.cv_results_['mean_test_score']\n",
    "\n",
    "test_accX = dt.best_estimator_.predict(X_test) == Y_test\n",
    "#print(sum(test_accX))\n",
    "test_acc = sum(test_accX)/len(test_accX)\n",
    "print('Best parameter: {}'.format(dt.best_params_))\n",
    "print('Training accuracy: {}'.format(dt_train))\n",
    "print('Validation score: {}'.format(dt_test))\n",
    "print('Testining accuracy: {}'.format(test_acc))"
   ]
  }
 ],
 "metadata": {
  "kernelspec": {
   "display_name": "Python 3",
   "language": "python",
   "name": "python3"
  },
  "language_info": {
   "codemirror_mode": {
    "name": "ipython",
    "version": 3
   },
   "file_extension": ".py",
   "mimetype": "text/x-python",
   "name": "python",
   "nbconvert_exporter": "python",
   "pygments_lexer": "ipython3",
   "version": "3.7.3"
  }
 },
 "nbformat": 4,
 "nbformat_minor": 2
}
